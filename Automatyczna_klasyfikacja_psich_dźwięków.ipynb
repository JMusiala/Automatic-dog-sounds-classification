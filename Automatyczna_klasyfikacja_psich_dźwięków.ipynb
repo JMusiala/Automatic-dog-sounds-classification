{
  "cells": [
    {
      "cell_type": "code",
      "execution_count": null,
      "id": "4ad6550e",
      "metadata": {
        "id": "4ad6550e"
      },
      "outputs": [],
      "source": [
        "import os\n",
        "import time\n",
        "import librosa\n",
        "import numpy as np\n",
        "import matplotlib.pyplot as plt\n",
        "import soundfile as sf\n",
        "import pydub\n",
        "import pandas as pd\n",
        "import scipy\n",
        "import random\n",
        "from random import shuffle\n",
        "from scipy.io.wavfile import read as read_wav\n",
        "from scipy.signal import spectrogram\n",
        "from sklearn.model_selection import train_test_split\n",
        "from sklearn.neighbors import KNeighborsClassifier\n",
        "from sklearn.preprocessing import StandardScaler\n",
        "import sklearn\n",
        "import pickle\n",
        "from pathlib import Path\n",
        "from collections import Counter\n",
        "from sklearn.model_selection import cross_validate, GroupKFold, KFold\n",
        "from sklearn.model_selection import cross_val_score\n",
        "from sklearn.ensemble import RandomForestClassifier\n",
        "from sklearn.svm import SVC\n",
        "import optuna"
      ]
    },
    {
      "cell_type": "code",
      "execution_count": null,
      "id": "404e7ca9",
      "metadata": {
        "id": "404e7ca9",
        "outputId": "43115c0e-685b-4a94-d704-72b9624e0743"
      },
      "outputs": [
        {
          "name": "stdout",
          "output_type": "stream",
          "text": [
            "600\n",
            "['37_dog_barking.wav', '259_dog_growling.wav', '417_dog_snoring.wav', '317_dog_howling.wav', '498_dog_snoring.wav', '533_dog_whimper.wav', '157_dog_breath.wav', '196_dog_breath.wav', '271_dog_growling.wav', '480_dog_snoring.wav', '22_dog_barking.wav', '313_dog_howling.wav', '368_dog_howling.wav', '554_dog_whimper.wav', '560_dog_whimper.wav', '596_dog_whimper.wav', '301_dog_howling.wav', '588_dog_whimper.wav', '7_dog_barking.wav', '234_dog_growling.wav', '141_dog_breath.wav', '516_dog_whimper.wav', '396_dog_howling.wav', '414_dog_snoring.wav', '509_dog_whimper.wav', '587_dog_whimper.wav', '198_dog_breath.wav', '545_dog_whimper.wav', '105_dog_breath.wav', '86_dog_barking.wav', '154_dog_breath.wav', '134_dog_breath.wav', '505_dog_whimper.wav', '191_dog_breath.wav', '473_dog_snoring.wav', '249_dog_growling.wav', '289_dog_growling.wav', '286_dog_growling.wav', '379_dog_howling.wav', '139_dog_breath.wav', '461_dog_snoring.wav', '251_dog_growling.wav', '228_dog_growling.wav', '450_dog_snoring.wav', '356_dog_howling.wav', '483_dog_snoring.wav', '574_dog_whimper.wav', '350_dog_howling.wav', '143_dog_breath.wav', '328_dog_howling.wav', '517_dog_whimper.wav', '1_dog_barking.wav', '504_dog_whimper.wav', '318_dog_howling.wav', '274_dog_growling.wav', '373_dog_howling.wav', '124_dog_breath.wav', '261_dog_growling.wav', '357_dog_howling.wav', '427_dog_snoring.wav', '21_dog_barking.wav', '511_dog_whimper.wav', '88_dog_barking.wav', '366_dog_howling.wav', '572_dog_whimper.wav', '13_dog_barking.wav', '126_dog_breath.wav', '188_dog_breath.wav', '53_dog_barking.wav', '569_dog_whimper.wav', '475_dog_snoring.wav', '370_dog_howling.wav', '212_dog_growling.wav', '335_dog_howling.wav', '489_dog_snoring.wav', '380_dog_howling.wav', '441_dog_snoring.wav', '6_dog_barking.wav', '275_dog_growling.wav', '161_dog_breath.wav', '575_dog_whimper.wav', '102_dog_breath.wav', '433_dog_snoring.wav', '299_dog_growling.wav', '338_dog_howling.wav', '104_dog_breath.wav', '423_dog_snoring.wav', '243_dog_growling.wav', '416_dog_snoring.wav', '496_dog_snoring.wav', '35_dog_barking.wav', '360_dog_howling.wav', '165_dog_breath.wav', '25_dog_barking.wav', '221_dog_growling.wav', '294_dog_growling.wav', '558_dog_whimper.wav', '462_dog_snoring.wav', '172_dog_breath.wav', '95_dog_barking.wav', '18_dog_barking.wav', '63_dog_barking.wav', '265_dog_growling.wav', '538_dog_whimper.wav', '149_dog_breath.wav', '463_dog_snoring.wav', '296_dog_growling.wav', '507_dog_whimper.wav', '410_dog_snoring.wav', '389_dog_howling.wav', '101_dog_breath.wav', '240_dog_growling.wav', '341_dog_howling.wav', '155_dog_breath.wav', '189_dog_breath.wav', '29_dog_barking.wav', '595_dog_whimper.wav', '494_dog_snoring.wav', '113_dog_breath.wav', '270_dog_growling.wav', '162_dog_breath.wav', '421_dog_snoring.wav', '437_dog_snoring.wav', '80_dog_barking.wav', '444_dog_snoring.wav', '253_dog_growling.wav', '374_dog_howling.wav', '310_dog_howling.wav', '564_dog_whimper.wav', '176_dog_breath.wav', '57_dog_barking.wav', '391_dog_howling.wav', '112_dog_breath.wav', '197_dog_breath.wav', '515_dog_whimper.wav', '123_dog_breath.wav', '42_dog_barking.wav', '315_dog_howling.wav', '325_dog_howling.wav', '190_dog_breath.wav', '371_dog_howling.wav', '495_dog_snoring.wav', '352_dog_howling.wav', '256_dog_growling.wav', '168_dog_breath.wav', '70_dog_barking.wav', '440_dog_snoring.wav', '365_dog_howling.wav', '531_dog_whimper.wav', '363_dog_howling.wav', '561_dog_whimper.wav', '492_dog_snoring.wav', '41_dog_barking.wav', '482_dog_snoring.wav', '535_dog_whimper.wav', '49_dog_barking.wav', '107_dog_breath.wav', '540_dog_whimper.wav', '61_dog_barking.wav', '551_dog_whimper.wav', '430_dog_snoring.wav', '64_dog_barking.wav', '164_dog_breath.wav', '222_dog_growling.wav', '304_dog_howling.wav', '526_dog_whimper.wav', '184_dog_breath.wav', '348_dog_howling.wav', '594_dog_whimper.wav', '353_dog_howling.wav', '563_dog_whimper.wav', '285_dog_growling.wav', '566_dog_whimper.wav', '406_dog_snoring.wav', '562_dog_whimper.wav', '200_dog_growling.wav', '254_dog_growling.wav', '397_dog_howling.wav', '330_dog_howling.wav', '170_dog_breath.wav', '388_dog_howling.wav', '293_dog_growling.wav', '185_dog_breath.wav', '334_dog_howling.wav', '386_dog_howling.wav', '166_dog_breath.wav', '590_dog_whimper.wav', '122_dog_breath.wav', '342_dog_howling.wav', '290_dog_growling.wav', '3_dog_barking.wav', '383_dog_howling.wav', '81_dog_barking.wav', '43_dog_barking.wav', '418_dog_snoring.wav', '398_dog_howling.wav', '74_dog_barking.wav', '343_dog_howling.wav', '65_dog_barking.wav', '550_dog_whimper.wav', '153_dog_breath.wav', '173_dog_breath.wav', '96_dog_barking.wav', '435_dog_snoring.wav', '408_dog_snoring.wav', '579_dog_whimper.wav', '0_dog_barking.wav', '145_dog_breath.wav', '10_dog_barking.wav', '45_dog_barking.wav', '576_dog_whimper.wav', '210_dog_growling.wav', '567_dog_whimper.wav', '205_dog_growling.wav', '69_dog_barking.wav', '52_dog_barking.wav', '127_dog_breath.wav', '422_dog_snoring.wav', '491_dog_snoring.wav', '224_dog_growling.wav', '147_dog_breath.wav', '425_dog_snoring.wav', '518_dog_whimper.wav', '8_dog_barking.wav', '521_dog_whimper.wav', '148_dog_breath.wav', '33_dog_barking.wav', '390_dog_howling.wav', '202_dog_growling.wav', '2_dog_barking.wav', '407_dog_snoring.wav', '453_dog_snoring.wav', '260_dog_growling.wav', '83_dog_barking.wav', '528_dog_whimper.wav', '593_dog_whimper.wav', '187_dog_breath.wav', '592_dog_whimper.wav', '130_dog_breath.wav', '140_dog_breath.wav', '537_dog_whimper.wav', '242_dog_growling.wav', '90_dog_barking.wav', '278_dog_growling.wav', '146_dog_breath.wav', '215_dog_growling.wav', '355_dog_howling.wav', '438_dog_snoring.wav', '171_dog_breath.wav', '512_dog_whimper.wav', '160_dog_breath.wav', '327_dog_howling.wav', '436_dog_snoring.wav', '547_dog_whimper.wav', '235_dog_growling.wav', '559_dog_whimper.wav', '230_dog_growling.wav', '60_dog_barking.wav', '308_dog_howling.wav', '23_dog_barking.wav', '578_dog_whimper.wav', '541_dog_whimper.wav', '178_dog_breath.wav', '226_dog_growling.wav', '412_dog_snoring.wav', '68_dog_barking.wav', '247_dog_growling.wav', '183_dog_breath.wav', '273_dog_growling.wav', '591_dog_whimper.wav', '443_dog_snoring.wav', '323_dog_howling.wav', '40_dog_barking.wav', '522_dog_whimper.wav', '326_dog_howling.wav', '454_dog_snoring.wav', '359_dog_howling.wav', '120_dog_breath.wav', '399_dog_howling.wav', '91_dog_barking.wav', '211_dog_growling.wav', '229_dog_growling.wav', '525_dog_whimper.wav', '466_dog_snoring.wav', '282_dog_growling.wav', '151_dog_breath.wav', '295_dog_growling.wav', '577_dog_whimper.wav', '298_dog_growling.wav', '67_dog_barking.wav', '585_dog_whimper.wav', '97_dog_barking.wav', '428_dog_snoring.wav', '30_dog_barking.wav', '362_dog_howling.wav', '79_dog_barking.wav', '524_dog_whimper.wav', '114_dog_breath.wav', '93_dog_barking.wav', '291_dog_growling.wav', '220_dog_growling.wav', '508_dog_whimper.wav', '76_dog_barking.wav', '468_dog_snoring.wav', '452_dog_snoring.wav', '426_dog_snoring.wav', '527_dog_whimper.wav', '236_dog_growling.wav', '500_dog_whimper.wav', '419_dog_snoring.wav', '241_dog_growling.wav', '377_dog_howling.wav', '307_dog_howling.wav', '238_dog_growling.wav', '116_dog_breath.wav', '34_dog_barking.wav', '385_dog_howling.wav', '502_dog_whimper.wav', '339_dog_howling.wav', '589_dog_whimper.wav', '347_dog_howling.wav', '354_dog_howling.wav', '24_dog_barking.wav', '467_dog_snoring.wav', '9_dog_barking.wav', '597_dog_whimper.wav', '56_dog_barking.wav', '50_dog_barking.wav', '100_dog_breath.wav', '409_dog_snoring.wav', '217_dog_growling.wav', '581_dog_whimper.wav', '156_dog_breath.wav', '394_dog_howling.wav', '111_dog_breath.wav', '474_dog_snoring.wav', '258_dog_growling.wav', '586_dog_whimper.wav', '119_dog_breath.wav', '62_dog_barking.wav', '497_dog_snoring.wav', '214_dog_growling.wav', '303_dog_howling.wav', '346_dog_howling.wav', '279_dog_growling.wav', '287_dog_growling.wav', '277_dog_growling.wav', '268_dog_growling.wav', '182_dog_breath.wav', '55_dog_barking.wav', '479_dog_snoring.wav', '54_dog_barking.wav', '484_dog_snoring.wav', '186_dog_breath.wav', '501_dog_whimper.wav', '570_dog_whimper.wav', '340_dog_howling.wav', '85_dog_barking.wav', '451_dog_snoring.wav', '219_dog_growling.wav', '276_dog_growling.wav', '536_dog_whimper.wav', '75_dog_barking.wav', '129_dog_breath.wav', '529_dog_whimper.wav', '72_dog_barking.wav', '411_dog_snoring.wav', '150_dog_breath.wav', '324_dog_howling.wav', '252_dog_growling.wav', '403_dog_snoring.wav', '542_dog_whimper.wav', '361_dog_howling.wav', '250_dog_growling.wav', '244_dog_growling.wav', '598_dog_whimper.wav', '98_dog_barking.wav', '125_dog_breath.wav', '239_dog_growling.wav', '73_dog_barking.wav', '142_dog_breath.wav', '415_dog_snoring.wav', '381_dog_howling.wav', '481_dog_snoring.wav', '284_dog_growling.wav', '393_dog_howling.wav', '321_dog_howling.wav', '431_dog_snoring.wav', '447_dog_snoring.wav', '455_dog_snoring.wav', '246_dog_growling.wav', '47_dog_barking.wav', '292_dog_growling.wav', '469_dog_snoring.wav', '314_dog_howling.wav', '138_dog_breath.wav', '17_dog_barking.wav', '38_dog_barking.wav', '552_dog_whimper.wav', '19_dog_barking.wav', '48_dog_barking.wav', '216_dog_growling.wav', '439_dog_snoring.wav', '402_dog_snoring.wav', '571_dog_whimper.wav', '201_dog_growling.wav', '395_dog_howling.wav', '194_dog_breath.wav', '510_dog_whimper.wav', '59_dog_barking.wav', '367_dog_howling.wav', '442_dog_snoring.wav', '446_dog_snoring.wav', '15_dog_barking.wav', '233_dog_growling.wav', '400_dog_snoring.wav', '179_dog_breath.wav', '267_dog_growling.wav', '281_dog_growling.wav', '58_dog_barking.wav', '486_dog_snoring.wav', '264_dog_growling.wav', '485_dog_snoring.wav', '248_dog_growling.wav', '471_dog_snoring.wav', '128_dog_breath.wav', '135_dog_breath.wav', '459_dog_snoring.wav', '458_dog_snoring.wav', '257_dog_growling.wav', '376_dog_howling.wav', '99_dog_barking.wav', '506_dog_whimper.wav', '255_dog_growling.wav', '71_dog_barking.wav', '300_dog_howling.wav', '584_dog_whimper.wav', '203_dog_growling.wav', '384_dog_howling.wav', '28_dog_barking.wav', '117_dog_breath.wav', '115_dog_breath.wav', '32_dog_barking.wav', '231_dog_growling.wav', '207_dog_growling.wav', '392_dog_howling.wav', '548_dog_whimper.wav', '20_dog_barking.wav', '309_dog_howling.wav', '245_dog_growling.wav', '227_dog_growling.wav', '599_dog_whimper.wav', '565_dog_whimper.wav', '225_dog_growling.wav', '549_dog_whimper.wav', '180_dog_breath.wav', '306_dog_howling.wav', '460_dog_snoring.wav', '470_dog_snoring.wav', '77_dog_barking.wav', '344_dog_howling.wav', '169_dog_breath.wav', '181_dog_breath.wav', '503_dog_whimper.wav', '163_dog_breath.wav', '488_dog_snoring.wav', '573_dog_whimper.wav', '478_dog_snoring.wav', '375_dog_howling.wav', '532_dog_whimper.wav', '351_dog_howling.wav', '523_dog_whimper.wav', '336_dog_howling.wav', '144_dog_breath.wav', '11_dog_barking.wav', '195_dog_breath.wav', '432_dog_snoring.wav', '136_dog_breath.wav', '269_dog_growling.wav', '12_dog_barking.wav', '369_dog_howling.wav', '546_dog_whimper.wav', '424_dog_snoring.wav', '46_dog_barking.wav', '429_dog_snoring.wav', '534_dog_whimper.wav', '175_dog_breath.wav', '208_dog_growling.wav', '118_dog_breath.wav', '131_dog_breath.wav', '4_dog_barking.wav', '78_dog_barking.wav', '312_dog_howling.wav', '110_dog_breath.wav', '27_dog_barking.wav', '266_dog_growling.wav', '513_dog_whimper.wav', '87_dog_barking.wav', '31_dog_barking.wav', '5_dog_barking.wav', '82_dog_barking.wav', '457_dog_snoring.wav', '553_dog_whimper.wav', '364_dog_howling.wav', '106_dog_breath.wav', '26_dog_barking.wav', '84_dog_barking.wav', '263_dog_growling.wav', '14_dog_barking.wav', '174_dog_breath.wav', '206_dog_growling.wav', '159_dog_breath.wav', '320_dog_howling.wav', '358_dog_howling.wav', '280_dog_growling.wav', '137_dog_breath.wav', '464_dog_snoring.wav', '329_dog_howling.wav', '204_dog_growling.wav', '121_dog_breath.wav', '404_dog_snoring.wav', '192_dog_breath.wav', '382_dog_howling.wav', '209_dog_growling.wav', '199_dog_breath.wav', '456_dog_snoring.wav', '434_dog_snoring.wav', '262_dog_growling.wav', '372_dog_howling.wav', '283_dog_growling.wav', '332_dog_howling.wav', '445_dog_snoring.wav', '108_dog_breath.wav', '477_dog_snoring.wav', '519_dog_whimper.wav', '331_dog_howling.wav', '272_dog_growling.wav', '557_dog_whimper.wav', '66_dog_barking.wav', '476_dog_snoring.wav', '237_dog_growling.wav', '311_dog_howling.wav', '16_dog_barking.wav', '582_dog_whimper.wav', '405_dog_snoring.wav', '449_dog_snoring.wav', '167_dog_breath.wav', '448_dog_snoring.wav', '322_dog_howling.wav', '413_dog_snoring.wav', '213_dog_growling.wav', '556_dog_whimper.wav', '530_dog_whimper.wav', '555_dog_whimper.wav', '133_dog_breath.wav', '539_dog_whimper.wav', '499_dog_snoring.wav', '345_dog_howling.wav', '378_dog_howling.wav', '297_dog_growling.wav', '92_dog_barking.wav', '333_dog_howling.wav', '420_dog_snoring.wav', '193_dog_breath.wav', '568_dog_whimper.wav', '583_dog_whimper.wav', '109_dog_breath.wav', '387_dog_howling.wav', '44_dog_barking.wav', '302_dog_howling.wav', '94_dog_barking.wav', '316_dog_howling.wav', '487_dog_snoring.wav', '580_dog_whimper.wav', '543_dog_whimper.wav', '472_dog_snoring.wav', '223_dog_growling.wav', '103_dog_breath.wav', '158_dog_breath.wav', '337_dog_howling.wav', '39_dog_barking.wav', '232_dog_growling.wav', '544_dog_whimper.wav', '514_dog_whimper.wav', '89_dog_barking.wav', '493_dog_snoring.wav', '51_dog_barking.wav', '319_dog_howling.wav', '152_dog_breath.wav', '520_dog_whimper.wav', '288_dog_growling.wav', '218_dog_growling.wav', '349_dog_howling.wav', '465_dog_snoring.wav', '177_dog_breath.wav', '305_dog_howling.wav', '36_dog_barking.wav', '132_dog_breath.wav', '490_dog_snoring.wav', '401_dog_snoring.wav']\n"
          ]
        }
      ],
      "source": [
        "current_dir = Path.cwd()\n",
        "path = current_dir/ 'Audio files 600'\n",
        "files = []\n",
        "try:\n",
        "    with open(\"audio_files_600elements.txt\") as f:\n",
        "        files = f.readlines()\n",
        "\n",
        "\n",
        "    # remove new line characters\n",
        "    files = [x.strip() for x in files]\n",
        "except FileNotFoundError:\n",
        "    print(\"Please check the path\")\n",
        "\n",
        "print(len(files))\n",
        "print(files)"
      ]
    },
    {
      "cell_type": "code",
      "execution_count": null,
      "id": "844eb2c2",
      "metadata": {
        "id": "844eb2c2"
      },
      "outputs": [],
      "source": [
        "fs, signal = read_wav(path / files[132])\n",
        "print(fs)\n",
        "print(files[15])\n",
        "\n",
        "f, t, Sxx = spectrogram(signal, fs)\n",
        "plt.pcolormesh(t, f, Sxx, shading='gouraud', cmap='plasma')\n",
        "\n",
        "print(np.shape(Sxx))\n",
        "print(fs)"
      ]
    },
    {
      "cell_type": "code",
      "execution_count": null,
      "id": "ee4143a4",
      "metadata": {
        "id": "ee4143a4",
        "outputId": "6a8c2ff8-552a-4b7a-f712-06b883f28aa8"
      },
      "outputs": [
        {
          "name": "stderr",
          "output_type": "stream",
          "text": [
            "C:\\Users\\jakub\\AppData\\Local\\Temp\\ipykernel_3048\\932675215.py:3: FutureWarning: Pass y=[0.00073755 0.00118351 0.00132763 ... 0.00457859 0.00476158 0.00536084] as keyword args. From version 0.10 passing these as positional arguments will result in an error\n",
            "  mfcc_13_coeffs = librosa.feature.mfcc(signal, sr=fs, n_mfcc=13)\n"
          ]
        },
        {
          "name": "stdout",
          "output_type": "stream",
          "text": [
            "(13, 216)\n"
          ]
        },
        {
          "data": {
            "image/png": "[encoded data removed]",
            "text/plain": [
              "<Figure size 432x288 with 1 Axes>"
            ]
          },
          "metadata": {
            "needs_background": "light"
          },
          "output_type": "display_data"
        }
      ],
      "source": [
        "signal, fs = librosa.load(path / files[132], sr=None) #trzeba zdefiniować częstotliwość próbkowania jako None,\n",
        "\n",
        "mfcc_13_coeffs = librosa.feature.mfcc(signal, sr=fs, n_mfcc=13)\n",
        "print(mfcc_13_coeffs.shape)\n",
        "\n",
        "plt.imshow(mfcc_13_coeffs, cmap='plasma', aspect='auto')\n",
        "plt.gca().invert_yaxis()"
      ]
    },
    {
      "cell_type": "code",
      "execution_count": null,
      "id": "3edc2213",
      "metadata": {
        "id": "3edc2213",
        "outputId": "200668dc-7a10-42fd-a478-71408c1332a4"
      },
      "outputs": [
        {
          "data": {
            "text/plain": [
              "[Text(0.5, 1.0, 'MFCC')]"
            ]
          },
          "execution_count": 932,
          "metadata": {},
          "output_type": "execute_result"
        },
        {
          "data": {
            "image/png": "[encoded data removed]",
            "text/plain": [
              "<Figure size 432x288 with 2 Axes>"
            ]
          },
          "metadata": {
            "needs_background": "light"
          },
          "output_type": "display_data"
        }
      ],
      "source": [
        "import librosa.display\n",
        "\n",
        "fig, ax = plt.subplots()\n",
        "img = librosa.display.specshow(mfcc_13_coeffs, x_axis='time', ax=ax)\n",
        "fig.colorbar(img, ax=ax) #obok obrazu będzie wyświetlony pasek ze skalą kolorystyczną\n",
        "ax.set(title='MFCC')"
      ]
    },
    {
      "cell_type": "code",
      "execution_count": null,
      "id": "26e4edaf",
      "metadata": {
        "id": "26e4edaf"
      },
      "outputs": [],
      "source": [
        "#print(files[0])\n",
        "\n",
        "mfccs = []\n",
        "sig_len = []\n",
        "for file in files:\n",
        "    x, fs = librosa.load(path/file)\n",
        "    mfcc_13_coeffs = librosa.feature.mfcc(x, sr=fs, n_mfcc=13)\n",
        "    mfccs.append(mfcc_13_coeffs)\n",
        "    sig_len.append(np.shape(mfcc_13_coeffs)[1])\n",
        "trunc_mfccs = []\n",
        "for item in mfccs:\n",
        "    item = item[:, :np.min(sig_len)]\n",
        "    trunc_mfccs.append(item)\n",
        "mfccs = np.asarray(trunc_mfccs)\n",
        "np.shape(mfccs)"
      ]
    },
    {
      "cell_type": "code",
      "execution_count": null,
      "id": "cd2974a9",
      "metadata": {
        "id": "cd2974a9",
        "outputId": "7c40cbb7-0081-4414-86bf-a66175e81e1f"
      },
      "outputs": [
        {
          "name": "stdout",
          "output_type": "stream",
          "text": [
            "[0. 2. 4. 3. 4. 5. 1. 1. 2. 4. 0. 3. 3. 5. 5. 5. 3. 5. 0. 2. 1. 5. 3. 4.\n",
            " 5. 5. 1. 5. 1. 0. 1. 1. 5. 1. 4. 2. 2. 2. 3. 1. 4. 2. 2. 4. 3. 4. 5. 3.\n",
            " 1. 3. 5. 0. 5. 3. 2. 3. 1. 2. 3. 4. 0. 5. 0. 3. 5. 0. 1. 1. 0. 5. 4. 3.\n",
            " 2. 3. 4. 3. 4. 0. 2. 1. 5. 1. 4. 2. 3. 1. 4. 2. 4. 4. 0. 3. 1. 0. 2. 2.\n",
            " 5. 4. 1. 0. 0. 0. 2. 5. 1. 4. 2. 5. 4. 3. 1. 2. 3. 1. 1. 0. 5. 4. 1. 2.\n",
            " 1. 4. 4. 0. 4. 2. 3. 3. 5. 1. 0. 3. 1. 1. 5. 1. 0. 3. 3. 1. 3. 4. 3. 2.\n",
            " 1. 0. 4. 3. 5. 3. 5. 4. 0. 4. 5. 0. 1. 5. 0. 5. 4. 0. 1. 2. 3. 5. 1. 3.\n",
            " 5. 3. 5. 2. 5. 4. 5. 2. 2. 3. 3. 1. 3. 2. 1. 3. 3. 1. 5. 1. 3. 2. 0. 3.\n",
            " 0. 0. 4. 3. 0. 3. 0. 5. 1. 1. 0. 4. 4. 5. 0. 1. 0. 0. 5. 2. 5. 2. 0. 0.\n",
            " 1. 4. 4. 2. 1. 4. 5. 0. 5. 1. 0. 3. 2. 0. 4. 4. 2. 0. 5. 5. 1. 5. 1. 1.\n",
            " 5. 2. 0. 2. 1. 2. 3. 4. 1. 5. 1. 3. 4. 5. 2. 5. 2. 0. 3. 0. 5. 5. 1. 2.\n",
            " 4. 0. 2. 1. 2. 5. 4. 3. 0. 5. 3. 4. 3. 1. 3. 0. 2. 2. 5. 4. 2. 1. 2. 5.\n",
            " 2. 0. 5. 0. 4. 0. 3. 0. 5. 1. 0. 2. 2. 5. 0. 4. 4. 4. 5. 2. 5. 4. 2. 3.\n",
            " 3. 2. 1. 0. 3. 5. 3. 5. 3. 3. 0. 4. 0. 5. 0. 0. 1. 4. 2. 5. 1. 3. 1. 4.\n",
            " 2. 5. 1. 0. 4. 2. 3. 3. 2. 2. 2. 2. 1. 0. 4. 0. 4. 1. 5. 5. 3. 0. 4. 2.\n",
            " 2. 5. 0. 1. 5. 0. 4. 1. 3. 2. 4. 5. 3. 2. 2. 5. 0. 1. 2. 0. 1. 4. 3. 4.\n",
            " 2. 3. 3. 4. 4. 4. 2. 0. 2. 4. 3. 1. 0. 0. 5. 0. 0. 2. 4. 4. 5. 2. 3. 1.\n",
            " 5. 0. 3. 4. 4. 0. 2. 4. 1. 2. 2. 0. 4. 2. 4. 2. 4. 1. 1. 4. 4. 2. 3. 0.\n",
            " 5. 2. 0. 3. 5. 2. 3. 0. 1. 1. 0. 2. 2. 3. 5. 0. 3. 2. 2. 5. 5. 2. 5. 1.\n",
            " 3. 4. 4. 0. 3. 1. 1. 5. 1. 4. 5. 4. 3. 5. 3. 5. 3. 1. 0. 1. 4. 1. 2. 0.\n",
            " 3. 5. 4. 0. 4. 5. 1. 2. 1. 1. 0. 0. 3. 1. 0. 2. 5. 0. 0. 0. 0. 4. 5. 3.\n",
            " 1. 0. 0. 2. 0. 1. 2. 1. 3. 3. 2. 1. 4. 3. 2. 1. 4. 1. 3. 2. 1. 4. 4. 2.\n",
            " 3. 2. 3. 4. 1. 4. 5. 3. 2. 5. 0. 4. 2. 3. 0. 5. 4. 4. 1. 4. 3. 4. 2. 5.\n",
            " 5. 5. 1. 5. 4. 3. 3. 2. 0. 3. 4. 1. 5. 5. 1. 3. 0. 3. 0. 3. 4. 5. 5. 4.\n",
            " 2. 1. 1. 3. 0. 2. 5. 5. 0. 4. 0. 3. 1. 5. 2. 2. 3. 4. 1. 3. 0. 1. 4. 4.]\n",
            "(600,)\n"
          ]
        },
        {
          "data": {
            "text/plain": [
              "<BarContainer object of 6 artists>"
            ]
          },
          "execution_count": 934,
          "metadata": {},
          "output_type": "execute_result"
        },
        {
          "data": {
            "image/png": "[encoded data removed]",
            "text/plain": [
              "<Figure size 432x288 with 1 Axes>"
            ]
          },
          "metadata": {
            "needs_background": "light"
          },
          "output_type": "display_data"
        }
      ],
      "source": [
        "labels = np.zeros(len(files))\n",
        "\n",
        "for count, value in enumerate(files):\n",
        "    if 'breath' in value:\n",
        "        labels[count] = 1\n",
        "    if 'growling' in value:\n",
        "        labels[count] = 2\n",
        "    if 'howling' in value:\n",
        "        labels[count] = 3\n",
        "    if 'snoring' in value:\n",
        "        labels[count] = 4\n",
        "    if 'whimper' in value:\n",
        "        labels[count] = 5\n",
        "\n",
        "\n",
        "\n",
        "print(labels)\n",
        "print(labels.shape)\n",
        "counter_mine = Counter(labels)\n",
        "plt.bar(counter_mine.keys(), counter_mine.values())\n",
        "\n",
        "#n_splits=len(np.unique(labels))"
      ]
    },
    {
      "cell_type": "code",
      "execution_count": null,
      "id": "e14be7c3",
      "metadata": {
        "id": "e14be7c3"
      },
      "outputs": [],
      "source": [
        "folds =np.zeros(600)\n",
        "i=1\n",
        "num =0\n",
        "while(i<11):\n",
        "    numbers = range(num,num+60)\n",
        "    folds[numbers] = i\n",
        "    num = num +60\n",
        "    i= i+1\n",
        "\n",
        "print(folds)\n",
        "\n",
        "my_counter = Counter(folds)\n",
        "plt.bar(my_counter.keys(), my_counter.values())\n",
        "n_splits=len(np.unique(labels))\n",
        "\n",
        "#print(n_splits)"
      ]
    },
    {
      "cell_type": "code",
      "execution_count": null,
      "id": "4c122804",
      "metadata": {
        "id": "4c122804",
        "outputId": "dfcac25c-3f12-4968-8d17-861906f6f588"
      },
      "outputs": [
        {
          "name": "stdout",
          "output_type": "stream",
          "text": [
            "[0. 2. 4. 3. 4. 5. 1. 1. 2. 4. 0. 3. 3. 5. 5. 5. 3. 5. 0. 2. 1. 5. 3. 4.\n",
            " 5. 5. 1. 5. 1. 0. 1. 1. 5. 1. 4. 2. 2. 2. 3. 1. 4. 2. 2. 4. 3. 4. 5. 3.\n",
            " 1. 3. 5. 0. 5. 3. 2. 3. 1. 2. 3. 4. 0. 5. 0. 3. 5. 0. 1. 1. 0. 5. 4. 3.\n",
            " 2. 3. 4. 3. 4. 0. 2. 1. 5. 1. 4. 2. 3. 1. 4. 2. 4. 4. 0. 3. 1. 0. 2. 2.\n",
            " 5. 4. 1. 0. 0. 0. 2. 5. 1. 4. 2. 5. 4. 3. 1. 2. 3. 1. 1. 0. 5. 4. 1. 2.\n",
            " 1. 4. 4. 0. 4. 2. 3. 3. 5. 1. 0. 3. 1. 1. 5. 1. 0. 3. 3. 1. 3. 4. 3. 2.\n",
            " 1. 0. 4. 3. 5. 3. 5. 4. 0. 4. 5. 0. 1. 5. 0. 5. 4. 0. 1. 2. 3. 5. 1. 3.\n",
            " 5. 3. 5. 2. 5. 4. 5. 2. 2. 3. 3. 1. 3. 2. 1. 3. 3. 1. 5. 1. 3. 2. 0. 3.\n",
            " 0. 0. 4. 3. 0. 3. 0. 5. 1. 1. 0. 4. 4. 5. 0. 1. 0. 0. 5. 2. 5. 2. 0. 0.\n",
            " 1. 4. 4. 2. 1. 4. 5. 0. 5. 1. 0. 3. 2. 0. 4. 4. 2. 0. 5. 5. 1. 5. 1. 1.\n",
            " 5. 2. 0. 2. 1. 2. 3. 4. 1. 5. 1. 3. 4. 5. 2. 5. 2. 0. 3. 0. 5. 5. 1. 2.\n",
            " 4. 0. 2. 1. 2. 5. 4. 3. 0. 5. 3. 4. 3. 1. 3. 0. 2. 2. 5. 4. 2. 1. 2. 5.\n",
            " 2. 0. 5. 0. 4. 0. 3. 0. 5. 1. 0. 2. 2. 5. 0. 4. 4. 4. 5. 2. 5. 4. 2. 3.\n",
            " 3. 2. 1. 0. 3. 5. 3. 5. 3. 3. 0. 4. 0. 5. 0. 0. 1. 4. 2. 5. 1. 3. 1. 4.\n",
            " 2. 5. 1. 0. 4. 2. 3. 3. 2. 2. 2. 2. 1. 0. 4. 0. 4. 1. 5. 5. 3. 0. 4. 2.\n",
            " 2. 5. 0. 1. 5. 0. 4. 1. 3. 2. 4. 5. 3. 2. 2. 5. 0. 1. 2. 0. 1. 4. 3. 4.\n",
            " 2. 3. 3. 4. 4. 4. 2. 0. 2. 4. 3. 1. 0. 0. 5. 0. 0. 2. 4. 4. 5. 2. 3. 1.\n",
            " 5. 0. 3. 4. 4. 0. 2. 4. 1. 2. 2. 0. 4. 2. 4. 2. 4. 1. 1. 4. 4. 2. 3. 0.\n",
            " 5. 2. 0. 3. 5. 2. 3. 0. 1. 1. 0. 2. 2. 3. 5. 0. 3. 2. 2. 5. 5. 2. 5. 1.\n",
            " 3. 4. 4. 0. 3. 1. 1. 5. 1. 4. 5. 4. 3. 5. 3. 5. 3. 1. 0. 1. 4. 1. 2. 0.\n",
            " 3. 5. 4. 0. 4. 5. 1. 2. 1. 1. 0. 0. 3. 1. 0. 2. 5. 0. 0. 0. 0. 4. 5. 3.\n",
            " 1. 0. 0. 2. 0. 1. 2. 1. 3. 3. 2. 1. 4. 3. 2. 1. 4. 1. 3. 2. 1. 4. 4. 2.\n",
            " 3. 2. 3. 4. 1. 4. 5. 3. 2. 5. 0. 4.]\n",
            "[2. 3. 0. 5. 4. 4. 1. 4. 3. 4. 2. 5. 5. 5. 1. 5. 4. 3. 3. 2. 0. 3. 4. 1.\n",
            " 5. 5. 1. 3. 0. 3. 0. 3. 4. 5. 5. 4. 2. 1. 1. 3. 0. 2. 5. 5. 0. 4. 0. 3.\n",
            " 1. 5. 2. 2. 3. 4. 1. 3. 0. 1. 4. 4.]\n"
          ]
        },
        {
          "data": {
            "text/plain": [
              "<BarContainer object of 6 artists>"
            ]
          },
          "execution_count": 936,
          "metadata": {},
          "output_type": "execute_result"
        },
        {
          "data": {
            "image/png": "[encoded data removed]",
            "text/plain": [
              "<Figure size 432x288 with 1 Axes>"
            ]
          },
          "metadata": {
            "needs_background": "light"
          },
          "output_type": "display_data"
        }
      ],
      "source": [
        "#print(folds)\n",
        "\n",
        "train_folds_mask = folds != 10\n",
        "test_fold_mask = folds == 10\n",
        "#print(train_folds_mask)\n",
        "#print(test_fold_mask)\n",
        "\n",
        "train_folds = folds[train_folds_mask]\n",
        "test_fold = folds[test_fold_mask]\n",
        "\n",
        "\n",
        "X_train = mfccs[train_folds_mask]\n",
        "X_test = mfccs[test_fold_mask]\n",
        "\n",
        "y_train = labels[train_folds_mask]\n",
        "y_test = labels[test_fold_mask]\n",
        "\n",
        "newX_train = X_train.reshape(np.shape(X_train)[0],-1) #-1 oznacza, że wszystko poza pierwszym wymiarem zostanie\n",
        "                                                    #spłaszczone do jednego wymiaru\n",
        "newX_test = X_test.reshape(np.shape(X_test)[0],-1)\n",
        "\n",
        "\n",
        "print(y_train)\n",
        "print(y_test)\n",
        "\n",
        "counter_mine = Counter(y_test)\n",
        "plt.bar(counter_mine.keys(), counter_mine.values())\n",
        "\n",
        "#n_splits=len(np.unique(labels))"
      ]
    },
    {
      "cell_type": "code",
      "execution_count": null,
      "id": "2d2bd05c",
      "metadata": {
        "id": "2d2bd05c"
      },
      "outputs": [],
      "source": [
        "scaler = StandardScaler()\n",
        "\n",
        "X_train = scaler.fit_transform(newX_train)\n",
        "X_test = scaler.transform(newX_test)"
      ]
    },
    {
      "cell_type": "code",
      "execution_count": null,
      "id": "773dcb23",
      "metadata": {
        "id": "773dcb23",
        "outputId": "7e982624-cb53-4c94-a9dd-63d3171f3d86"
      },
      "outputs": [
        {
          "data": {
            "text/plain": [
              "{'fit_time': array([0.20012069, 0.19478202, 0.1897316 , 0.1811583 , 0.18104506,\n",
              "        0.18590736, 0.3130734 , 0.2102437 , 0.20151281]),\n",
              " 'score_time': array([0.05482626, 0.07431436, 0.04800129, 0.04809618, 0.04579091,\n",
              "        0.07840466, 0.05062413, 0.04942942, 0.04887533]),\n",
              " 'test_f1_macro': array([0.56397995, 0.62075594, 0.59819364, 0.5762053 , 0.67638385,\n",
              "        0.59214001, 0.53214286, 0.60391608, 0.55233918])}"
            ]
          },
          "execution_count": 938,
          "metadata": {},
          "output_type": "execute_result"
        }
      ],
      "source": [
        "from sklearn.metrics import accuracy_score, recall_score, precision_score, f1_score, confusion_matrix, make_scorer\n",
        "scoring = {'f1_macro': make_scorer(f1_score, average ='macro')}\n",
        "scoring_acc = {'accuracy': make_scorer(accuracy_score)}\n",
        "model = SVC(C=1.0, random_state=42)\n",
        "scores = cross_validate(model, X_train, y_train, scoring=scoring, groups=train_folds, cv=GroupKFold(n_splits=len(np.unique(train_folds))))\n",
        "\n",
        "scores"
      ]
    },
    {
      "cell_type": "code",
      "execution_count": null,
      "id": "bca4c5cc",
      "metadata": {
        "id": "bca4c5cc",
        "outputId": "fa5e26d1-8e1c-4d6f-ed6b-725b6a011d71"
      },
      "outputs": [
        {
          "name": "stdout",
          "output_type": "stream",
          "text": [
            "test accuracy =  0.7166666666666667\n",
            "test F1 =  0.7138423710792132\n",
            "[[5 0 2 0 1 0]\n",
            " [0 7 0 0 0 2]\n",
            " [0 0 7 0 0 0]\n",
            " [2 0 1 8 0 1]\n",
            " [1 2 0 0 9 0]\n",
            " [0 1 4 0 0 7]]\n"
          ]
        }
      ],
      "source": [
        "model.fit(X_train, y_train)\n",
        "model_test_preds = model.predict(X_test)\n",
        "\n",
        "print('test accuracy = ', accuracy_score(y_test, model_test_preds))\n",
        "print('test F1 = ', f1_score(y_test, model_test_preds, average='macro'))\n",
        "print(confusion_matrix(y_test, model_test_preds))"
      ]
    },
    {
      "cell_type": "code",
      "execution_count": null,
      "id": "35597bff",
      "metadata": {
        "id": "35597bff"
      },
      "outputs": [],
      "source": [
        "model = SVC\n",
        "\n",
        "def get_space(trial):\n",
        "    space = {'C': trial.suggest_uniform('C', 0, 2),\n",
        "            'max_iter': trial.suggest_int('max_iter', 100, 1000),\n",
        "            'kernel': trial.suggest_categorical('kernel',['linear', 'poly','rbf', 'sigmoid']),\n",
        "            'degree': trial.suggest_int('degree', 1,6)}\n",
        "    return space\n",
        "trials = 200 #liczba prób\n",
        "\n",
        "def objective(trial, model, X_train, y_train):\n",
        "    model_space = get_space(trial)\n",
        "\n",
        "    mdl = model(**model_space)\n",
        "    scores = cross_validate(mdl, X_train, y_train, groups=train_folds, scoring=scoring_acc, cv=GroupKFold(n_splits=len(np.unique(train_folds))), return_train_score=True)\n",
        "\n",
        "    return np.mean(scores['test_accuracy'])"
      ]
    },
    {
      "cell_type": "code",
      "execution_count": null,
      "id": "ecf50939",
      "metadata": {
        "id": "ecf50939",
        "outputId": "800fe4bf-ae2d-4349-c816-1c7d8e40b1c5"
      },
      "outputs": [
        {
          "name": "stderr",
          "output_type": "stream",
          "text": [
            "\u001b[32m[I 2022-12-22 23:15:22,180]\u001b[0m A new study created in memory with name: no-name-c24742fb-9127-4c19-85d5-77226d8b90ce\u001b[0m\n"
          ]
        }
      ],
      "source": [
        "study = optuna.create_study(direction='maximize')"
      ]
    },
    {
      "cell_type": "code",
      "execution_count": null,
      "id": "5bc5c91f",
      "metadata": {
        "id": "5bc5c91f"
      },
      "outputs": [],
      "source": [
        "%%time\n",
        "\n",
        "study.optimize(lambda x: objective(x, model, X_train, y_train), n_trials=trials)"
      ]
    },
    {
      "cell_type": "code",
      "execution_count": null,
      "id": "6cb2d643",
      "metadata": {
        "id": "6cb2d643",
        "outputId": "bd110029-17a8-4baf-a318-bdef7eaecd49"
      },
      "outputs": [
        {
          "name": "stdout",
          "output_type": "stream",
          "text": [
            "params:  {'C': 1.9988848156086596, 'max_iter': 107, 'kernel': 'rbf', 'degree': 1}\n"
          ]
        }
      ],
      "source": [
        "print('params: ', study.best_params)"
      ]
    },
    {
      "cell_type": "code",
      "execution_count": null,
      "id": "e005d830",
      "metadata": {
        "id": "e005d830",
        "outputId": "0f843543-9453-4c4e-a247-195ecc8f6f72"
      },
      "outputs": [
        {
          "name": "stdout",
          "output_type": "stream",
          "text": [
            "test accuracy =  0.75\n",
            "test F1 =  0.742610415638414\n",
            "[[ 5  0  2  0  1  0]\n",
            " [ 0  7  0  0  0  2]\n",
            " [ 1  0  6  0  0  0]\n",
            " [ 2  0  1  8  0  1]\n",
            " [ 0  0  1  0 11  0]\n",
            " [ 1  1  2  0  0  8]]\n"
          ]
        },
        {
          "name": "stderr",
          "output_type": "stream",
          "text": [
            "C:\\Users\\jakub\\anaconda3\\lib\\site-packages\\sklearn\\svm\\_base.py:284: ConvergenceWarning: Solver terminated early (max_iter=107).  Consider pre-processing your data with StandardScaler or MinMaxScaler.\n",
            "  warnings.warn(\n"
          ]
        }
      ],
      "source": [
        "SVM = model(**study.best_params)\n",
        "SVM.fit(X_train, y_train)\n",
        "model_preds = SVM.predict(X_test)\n",
        "\n",
        "print('test accuracy = ', accuracy_score(y_test, model_preds))\n",
        "print('test F1 = ', f1_score(y_test, model_preds, average='macro'))\n",
        "print(confusion_matrix(y_test, model_preds))"
      ]
    },
    {
      "cell_type": "code",
      "execution_count": null,
      "id": "3f6356e3",
      "metadata": {
        "id": "3f6356e3"
      },
      "outputs": [],
      "source": [
        "X_train, X_test, y_train, y_test = train_test_split(mfccs, labels, test_size=0.2, random_state=42,stratify=labels)\n",
        "\n",
        "X_train = X_train.reshape(np.shape(X_train)[0],-1)\n",
        "X_test = X_test.reshape(np.shape(X_test)[0],-1)\n",
        "\n",
        "scaler = StandardScaler()\n",
        "newX_train = scaler.fit_transform(X_train)\n",
        "newX_test = scaler.transform(X_test)\n"
      ]
    },
    {
      "cell_type": "code",
      "execution_count": null,
      "id": "40efa9e4",
      "metadata": {
        "id": "40efa9e4",
        "outputId": "89e42090-83a3-4503-ba41-755f91dd5f45"
      },
      "outputs": [
        {
          "name": "stdout",
          "output_type": "stream",
          "text": [
            "test accuracy =  0.7\n",
            "test F1 =  0.698987019718727\n",
            "[[13  0  1  2  1  3]\n",
            " [ 0 16  1  0  3  0]\n",
            " [ 0  1 13  0  2  4]\n",
            " [ 1  0  2 16  1  0]\n",
            " [ 1  1  2  0 16  0]\n",
            " [ 1  1  3  3  2 10]]\n"
          ]
        }
      ],
      "source": [
        "from sklearn.metrics import accuracy_score, recall_score, precision_score, f1_score, confusion_matrix\n",
        "\n",
        "#klasyfikacja\n",
        "SVM = SVC(C=1.0, random_state=42)\n",
        "SVM.fit(newX_train, y_train)\n",
        "SVM_test_preds = SVM.predict(newX_test)\n",
        "\n",
        "print('test accuracy = ', accuracy_score(y_test, SVM_test_preds))\n",
        "print('test F1 = ', f1_score(y_test, SVM_test_preds, average='macro'))\n",
        "print(confusion_matrix(y_test, SVM_test_preds))"
      ]
    },
    {
      "cell_type": "code",
      "execution_count": null,
      "id": "915d339d",
      "metadata": {
        "id": "915d339d",
        "outputId": "4d628986-720e-4bfe-bdd9-05d842ec539f"
      },
      "outputs": [
        {
          "name": "stdout",
          "output_type": "stream",
          "text": [
            "test accuracy =  0.6333333333333333\n",
            "test F1 =  0.6203101468554345\n",
            "[[12  0  0  3  1  4]\n",
            " [ 0 15  2  1  2  0]\n",
            " [ 2  1 13  0  4  0]\n",
            " [ 1  1  4 14  0  0]\n",
            " [ 0  0  2  0 17  1]\n",
            " [ 2  1  3  5  4  5]]\n"
          ]
        }
      ],
      "source": [
        "model = RandomForestClassifier(random_state=42)\n",
        "model.fit(newX_train, y_train)\n",
        "model_test_preds = model.predict(newX_test)\n",
        "\n",
        "print('test accuracy = ', accuracy_score(y_test, model_test_preds))\n",
        "print('test F1 = ', f1_score(y_test, model_test_preds, average='macro'))\n",
        "print(confusion_matrix(y_test, model_test_preds))"
      ]
    },
    {
      "cell_type": "code",
      "execution_count": null,
      "id": "ba4f77c9",
      "metadata": {
        "id": "ba4f77c9"
      },
      "outputs": [],
      "source": []
    }
  ],
  "metadata": {
    "kernelspec": {
      "display_name": "Python 3 (ipykernel)",
      "language": "python",
      "name": "python3"
    },
    "language_info": {
      "codemirror_mode": {
        "name": "ipython",
        "version": 3
      },
      "file_extension": ".py",
      "mimetype": "text/x-python",
      "name": "python",
      "nbconvert_exporter": "python",
      "pygments_lexer": "ipython3",
      "version": "3.9.12"
    },
    "colab": {
      "provenance": []
    }
  },
  "nbformat": 4,
  "nbformat_minor": 5
}